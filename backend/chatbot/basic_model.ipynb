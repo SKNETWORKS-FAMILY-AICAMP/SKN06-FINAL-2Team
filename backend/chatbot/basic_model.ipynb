{
 "cells": [
  {
   "cell_type": "markdown",
   "metadata": {},
   "source": [
    "**.env 파일**\n",
    "\n",
    "- API키 저장한 .env 파일 불러오기"
   ]
  },
  {
   "cell_type": "code",
   "execution_count": 1,
   "metadata": {},
   "outputs": [
    {
     "data": {
      "text/plain": [
       "True"
      ]
     },
     "execution_count": 1,
     "metadata": {},
     "output_type": "execute_result"
    }
   ],
   "source": [
    "from dotenv import load_dotenv\n",
    "load_dotenv()"
   ]
  },
  {
   "cell_type": "markdown",
   "metadata": {},
   "source": [
    "**라이브러리 불러오기**"
   ]
  },
  {
   "cell_type": "code",
   "execution_count": 2,
   "metadata": {},
   "outputs": [],
   "source": [
    "import os\n",
    "from langchain.vectorstores import Chroma\n",
    "from langchain.embeddings import OpenAIEmbeddings\n",
    "from langchain.schema import Document\n",
    "from langchain.prompts import ChatPromptTemplate, MessagesPlaceholder\n",
    "from langchain.memory import ConversationBufferMemory\n",
    "from langchain.agents import create_tool_calling_agent, AgentExecutor\n",
    "from langchain_openai import ChatOpenAI\n",
    "from langchain_community.tools import TavilySearchResults\n",
    "from langchain_core.tools import tool\n",
    "from langchain_core.output_parsers import StrOutputParser\n",
    "from langchain_core.runnables.history import RunnableWithMessageHistory, RunnableLambda\n",
    "from langchain.schema import HumanMessage\n",
    "from operator import itemgetter\n",
    "from textwrap import dedent"
   ]
  },
  {
   "cell_type": "code",
   "execution_count": 7,
   "metadata": {},
   "outputs": [],
   "source": [
    "# 경로 설정\n",
    "DIRECTORY_PATH = r\"Raw_DB\"\n",
    "PERSIST_DIRECTORY = r\"Raw_DB\\vector_store\\contents\"\n",
    "COLLECTION_NAME = \"contents\"\n",
    "EMBEDDING_MODEL_NAME = \"text-embedding-ada-002\""
   ]
  },
  {
   "cell_type": "code",
   "execution_count": 6,
   "metadata": {},
   "outputs": [
    {
     "name": "stderr",
     "output_type": "stream",
     "text": [
      "C:\\Users\\Playdata\\AppData\\Local\\Temp\\ipykernel_13640\\722385000.py:1: LangChainDeprecationWarning: The class `OpenAIEmbeddings` was deprecated in LangChain 0.0.9 and will be removed in 1.0. An updated version of the class exists in the :class:`~langchain-openai package and should be used instead. To use it run `pip install -U :class:`~langchain-openai` and import as `from :class:`~langchain_openai import OpenAIEmbeddings``.\n",
      "  embedding_model = OpenAIEmbeddings(model=EMBEDDING_MODEL_NAME)\n",
      "C:\\Users\\Playdata\\AppData\\Local\\Temp\\ipykernel_13640\\722385000.py:4: LangChainDeprecationWarning: The class `Chroma` was deprecated in LangChain 0.2.9 and will be removed in 1.0. An updated version of the class exists in the :class:`~langchain-chroma package and should be used instead. To use it run `pip install -U :class:`~langchain-chroma` and import as `from :class:`~langchain_chroma import Chroma``.\n",
      "  vector_store = Chroma(\n"
     ]
    },
    {
     "name": "stdout",
     "output_type": "stream",
     "text": [
      "=== 내용 확인 ======================================================================================================================================\n",
      "page_content='id: 59647809, type: 웹소설, platform: 카카오페이지, title: 화산천마, status: 월~금 연재, thumbnail: https://page-images.kakaoentcdn.com/download/resource?kid=vPpRR/hAHIq1vh21/tedW3p9mEjLVCGyeMXNXBk&filename=o1/dims/resize/384, genre: 무협, views: 52453000, rating: 9.2, like: -, description: 천마신교의 교주이자, 천하제일인이라 불리는 절대천마. 영생불멸군림대법으로 인해 정파에서 깨어나고 마는데……. \"뭐? 화산파? 이건 또 무슨 개소리야?\" 갑자기 화산파의 제자가 된 마도 대종사의 이야기. 몰락의 길을 걷던 화산파가 다시 비상하기 시작한다., keyword: ['퓨전', '환생', '먼치킨', '고인물', '천마', '도사', '정파', '검', '화산'], author: 사야객, illustrator: -, original: -, age_rating: 전체이용가, price_type: 1일 기다리면 무료, price_price: -' metadata={'age_rating': '전체이용가', 'author': '사야객', 'description': '천마신교의 교주이자, 천하제일인이라 불리는 절대천마. 영생불멸군림대법으로 인해 정파에서 깨어나고 마는데……. \"뭐? 화산파? 이건 또 무슨 개소리야?\" 갑자기 화산파의 제자가 된 마도 대종사의 이야기. 몰락의 길을 걷던 화산파가 다시 비상하기 시작한다.', 'episode': 777, 'genre': '무협', 'id': 59647809, 'illustrator': '-', 'keywords': '퓨전, 환생, 먼치킨, 고인물, 천마, 도사, 정파, 검, 화산', 'like': '-', 'original': '-', 'platform': '카카오페이지', 'price_price': '-', 'price_type': '1일 기다리면 무료', 'rating': 9.2, 'status': '월~금 연재', 'thumbnail': 'https://page-images.kakaoentcdn.com/download/resource?kid=vPpRR/hAHIq1vh21/tedW3p9mEjLVCGyeMXNXBk&filename=o1/dims/resize/384', 'title': '화산천마', 'type': '웹소설', 'url': 'https://page.kakao.com/content/59647809', 'views': 52453000}\n"
     ]
    }
   ],
   "source": [
    "embedding_model = OpenAIEmbeddings(model=EMBEDDING_MODEL_NAME)\n",
    "\n",
    "if os.path.exists(PERSIST_DIRECTORY):\n",
    "    vector_store = Chroma(\n",
    "        persist_directory=PERSIST_DIRECTORY,\n",
    "        collection_name=COLLECTION_NAME,\n",
    "        embedding_function=embedding_model,\n",
    "    )\n",
    "else:\n",
    "    vector_store = Chroma.from_documents(\n",
    "        documents=documents,\n",
    "        embedding=embedding_model,\n",
    "        collection_name=COLLECTION_NAME,\n",
    "        persist_directory=PERSIST_DIRECTORY,\n",
    "    )\n",
    "\n",
    "print(\n",
    "    \"=== 내용 확인 ======================================================================================================================================\"\n",
    ")\n",
    "try:\n",
    "    results = vector_store.similarity_search(\"화산귀환\")\n",
    "    print(results[0] if results else \"검색 결과 없음\")\n",
    "except Exception as e:\n",
    "    print(f\"검색 오류: {e}\")"
   ]
  },
  {
   "cell_type": "code",
   "execution_count": 8,
   "metadata": {},
   "outputs": [
    {
     "name": "stdout",
     "output_type": "stream",
     "text": [
      "vector store가 Raw_DB\\vector_store\\contents에서 성공적으로 생성/로드되었습니다.\n"
     ]
    }
   ],
   "source": [
    "# Retriever 설정 - 검색 설정\n",
    "retriever = vector_store.as_retriever(\n",
    "    search_type=\"mmr\",\n",
    "    search_kwargs={\n",
    "        \"k\": 10,\n",
    "        \"fetch_k\": 10,\n",
    "        \"lambda_mult\": 0.2,\n",
    "    },\n",
    ")\n",
    "\n",
    "print(f\"vector store가 {PERSIST_DIRECTORY}에서 성공적으로 생성/로드되었습니다.\")"
   ]
  },
  {
   "cell_type": "code",
   "execution_count": 19,
   "metadata": {},
   "outputs": [],
   "source": [
    "# db 검색 tool\n",
    "@tool\n",
    "def search_contents(query: str) -> list[Document]:\n",
    "    \"\"\"\n",
    "    Vector Store에 저장된 웹툰,웹소설 정보를 검색한다.\n",
    "    이 도구는 웹툰 추천, 웹소설 추천에 대해 실행한다.\n",
    "    \"\"\"\n",
    "    result = retriever.invoke(query)\n",
    "    return result if result else [Document(page_content=\"검색 결과가 없습니다.\")]\n",
    "\n",
    "\n",
    "# web 검색 tool\n",
    "@tool\n",
    "def search_web(query: str) -> list[Document]:\n",
    "    \"\"\"\n",
    "    Web에서 웹툰 추천,웹소설 추천 정보를 검색한다.\n",
    "    이 도구는 웹툰 추천, 웹소설 추천에 대해 실행한다.\n",
    "    \"\"\"\n",
    "    try:\n",
    "        tavily_search = TavilySearchResults(max_results=2)\n",
    "        result = tavily_search.invoke(query)\n",
    "        if result:\n",
    "            return [\n",
    "                Document(\n",
    "                    page_content=item.get(\"content\", \"\"),\n",
    "                    metadata={\"title\": item.get(\"title\", \"\")},\n",
    "                )\n",
    "                for item in result\n",
    "            ]\n",
    "        else:\n",
    "            return [Document(page_content=\"검색 결과가 없습니다.\")]\n",
    "    except Exception as e:\n",
    "        return [Document(page_content=f\"오류 발생: {str(e)}\")]"
   ]
  },
  {
   "cell_type": "code",
   "execution_count": 43,
   "metadata": {},
   "outputs": [],
   "source": [
    "# LLM 구성\n",
    "prompt_template = ChatPromptTemplate.from_messages(\n",
    "    [\n",
    "        MessagesPlaceholder(\"agent_scratchpad\"),\n",
    "        (\n",
    "            \"ai\",\n",
    "            dedent(\n",
    "                \"\"\"\n",
    "        1. 너는 웹툰,웹소설을 맨날 보는 매니아야.\n",
    "        2. 친구가 추천해달라고 하면 친구 취향에 꼭 맞는 웹툰을 추천해주면 되는거야. \n",
    "        3. 너가 잘못 추천해주면 친구가 웹툰에 대한 흥미를 잃을 수 있어. 신중하게 선택해.\n",
    "        답변 작성에 대한 지침은 다음과 같습니다.\n",
    "\n",
    "        1. 없는 정보를 창조해서 답변하지 마. \n",
    "        2. 네이버, 네이버 시리즈, 카카오웹툰, 카카오페이지에 있는 웹툰, 웹소설 만 추천해줘.\n",
    "        3. 입력 메세지로 사용자의 취향을 모르겠다면 유도 질문을 해. 예시) 재밌는 웹툰 추천 해줘. -> 주로 어떤 장르를 재밌게 보시나요?\n",
    "        4. 최소 8개, 최대 15개를 추천해주세요.\n",
    "        5. 사용자의 성향을 이해할 때는 장르보다 구체적이어야 합니다. 예) 키워드 조합\n",
    "\n",
    "\n",
    "        위 안내에 따라 사용자의 성향에 맞는 웹툰이나 웹소설을 추천해주세요.\n",
    "        {context}\n",
    "    \"\"\"\n",
    "            ),\n",
    "        ),\n",
    "        MessagesPlaceholder(\"history\"),\n",
    "        (\"human\", \"{question}\"),\n",
    "    ]\n",
    ")\n",
    "\n",
    "memory = ConversationBufferMemory()  # 메모리 설정\n",
    "model = ChatOpenAI(model=\"gpt-4o\", temperature=0)\n",
    "parser = StrOutputParser()\n",
    "\n",
    "# agent 구성\n",
    "agent = create_tool_calling_agent(\n",
    "    llm=model, tools=[search_contents, search_web], prompt=prompt_template\n",
    ")\n",
    "\n",
    "runnable = (\n",
    "    {\n",
    "        \"context\": RunnableLambda(lambda x: retriever.invoke(x[\"question\"])),\n",
    "        \"question\": itemgetter(\"question\"),\n",
    "        \"history\": itemgetter(\"history\"),\n",
    "    }\n",
    "    | prompt_template\n",
    "    | model\n",
    "    | parser\n",
    ")\n",
    "\n",
    "chain = RunnableWithMessageHistory(\n",
    "    runnable=runnable,\n",
    "    get_session_history=lambda session_id: memory.chat_memory,\n",
    "    input_messages_key=\"question\",\n",
    "    history_messages_key=\"history\",\n",
    ")\n"
   ]
  },
  {
   "cell_type": "code",
   "execution_count": 44,
   "metadata": {},
   "outputs": [],
   "source": [
    "toolkit = [search_contents, search_web]\n",
    "\n",
    "agent_executor = AgentExecutor(agent=agent, tools=toolkit, verbose=True)"
   ]
  },
  {
   "cell_type": "code",
   "execution_count": 45,
   "metadata": {},
   "outputs": [],
   "source": [
    "# 사용자 질문\n",
    "query = input(\"질문을 입력하세요: \").strip()\n",
    "if not query:\n",
    "    print(\"유효한 질문을 입력하세요.\")\n",
    "    exit()"
   ]
  },
  {
   "cell_type": "code",
   "execution_count": 46,
   "metadata": {},
   "outputs": [],
   "source": [
    "# context와 history 기본값 설정\n",
    "context = \"기본 context가 비어 있습니다. 적절한 데이터를 제공하세요.\"\n",
    "history = []\n",
    "\n",
    "\n",
    "result_from_db = search_contents.invoke(query)\n",
    "result_from_web = search_web.invoke(query)"
   ]
  },
  {
   "cell_type": "code",
   "execution_count": 47,
   "metadata": {},
   "outputs": [],
   "source": [
    "def combine_search_results(result_from_db: list, result_from_web: list) -> str:\n",
    "    combined_context = [\n",
    "        \"저장된 데이터에서 찾은 정보:\\n\",\n",
    "        *[doc.page_content for doc in result_from_db],\n",
    "        \"실시간 web 검색에서 확인된 정보:\\n\",\n",
    "    ]\n",
    "    if result_from_web:\n",
    "        combined_context.extend(\n",
    "            [f\"[{idx}] {doc.metadata.get('title', '제목 없음')}: {doc.page_content}\"\n",
    "            for idx, doc in enumerate(result_from_web, start=1)]\n",
    "        )\n",
    "    else:\n",
    "        combined_context.append(\"web 검색 결과가 없습니다.\")\n",
    "    return \"\\n\".join(combined_context)\n",
    "\n",
    "combined_context = combine_search_results(result_from_db, result_from_web)"
   ]
  },
  {
   "cell_type": "code",
   "execution_count": 48,
   "metadata": {},
   "outputs": [],
   "source": [
    "# LLM 입력 메세지 구성\n",
    "final_input_messages = [\n",
    "    HumanMessage(content=f\"사용자 질문: {query}\"),\n",
    "    HumanMessage(content=f\"context: {combined_context}\")\n",
    "]"
   ]
  },
  {
   "cell_type": "code",
   "execution_count": 49,
   "metadata": {},
   "outputs": [
    {
     "name": "stdout",
     "output_type": "stream",
     "text": [
      "\n",
      "\n",
      "\u001b[1m> Entering new AgentExecutor chain...\u001b[0m\n",
      "\u001b[32;1m\u001b[1;3m\n",
      "Invoking: `search_contents` with `{'query': '짝사랑 로맨스 판타지 웹툰'}`\n",
      "\n",
      "\n",
      "\u001b[0m\u001b[36;1m\u001b[1;3m[Document(metadata={'age_rating': '전체연령가', 'author': '루시드', 'description': '사랑을 알고 싶은 호러 작가와 \\n공포물은 질색인 인기 로맨스 작가의 \\n오싹달콤한 로맨스 제작기', 'episode': 75, 'genre': '로맨스', 'id': 710748, 'illustrator': '루시드', 'keywords': '로맨스, 완결로맨스', 'like': 118425, 'original': '-', 'platform': '네이버 웹툰', 'price_price': '-', 'price_type': '24시간 기다리면 무료', 'rating': 9.97503, 'status': '75화 완결', 'thumbnail': 'https://image-comic.pstatic.net/webtoon/710748/thumbnail/thumbnail_IMAG21_7017792614173860918.jpg', 'title': '호러와 로맨스', 'type': '웹툰', 'url': 'https://comic.naver.com/webtoon/list?titleId=710748', 'views': '-'}, page_content=\"id: 710748, type: 웹툰, platform: 네이버 웹툰, title: 호러와 로맨스, status: 75화 완결, thumbnail: https://image-comic.pstatic.net/webtoon/710748/thumbnail/thumbnail_IMAG21_7017792614173860918.jpg, genre: 로맨스, views: -, rating: 9.97503, like: 118425, description: 사랑을 알고 싶은 호러 작가와 \\n공포물은 질색인 인기 로맨스 작가의 \\n오싹달콤한 로맨스 제작기, keyword: ['로맨스', '완결로맨스'], author: 루시드, illustrator: 루시드, original: -, age_rating: 전체연령가, price_type: 24시간 기다리면 무료, price_price: -\"), Document(metadata={'age_rating': '15세이용가', 'author': '조졸리', 'description': '‘진실한 사랑이란 게 정말 있을까?’\\n\\n일이건 연애건 자신의 앞길은 자신이 개척할 수 있다며\\n늘 자신감 가득한 \"하이\".\\n\\n호기심 많고 무엇이든 도전해 보는 성격 탓에\\n건드리지 말아야 할 금단의 사과,\\n\"영현\"과 만나 쓴맛을 맛보게 되고,\\n일련의 사건들까지 엎친 데 덮친 격으로 일어나 \"하이\"는\\n서른셋 인생 처음으로 본인 마음대로 되지 않는 상황과\\n심리 상태에 직면한다.\\n\\n확신했던 것들에 대해 자신을 잃으며\\n괴로워하는 그녀의 곁엔 대학생 때부터\\n묵묵히 곁을 지켜온 \"혁우\"와\\n우연한 기회로 만나게 된 \"재희\"가 있는데...\\n\\n공허한 \"하이\"의 마음에 과연 진실한 사랑이 채워질 수 있을까?', 'episode': 116, 'genre': '로맨스', 'id': 3056, 'illustrator': '조졸리', 'keywords': '설레는, 에로틱한, 로맨스, 치정물', 'like': 341000, 'original': '', 'platform': '카카오웹툰', 'price_price': '-', 'price_type': '3시간마다 무료', 'rating': '-', 'status': '화 연재', 'thumbnail': 'https://kr-a.kakaopagecdn.com/P/C/3056/c2/2x/8f56d927-e2fa-4005-888b-5e73edeaca04.png', 'title': '나쁜 X', 'type': '웹툰', 'url': 'https://webtoon.kakao.com/content/%EB%82%98%EC%81%9C-X/3056', 'views': 28896000}, page_content='id: 3056, type: 웹툰, platform: 카카오웹툰, title: 나쁜 X, status: 화 연재, thumbnail: https://kr-a.kakaopagecdn.com/P/C/3056/c2/2x/8f56d927-e2fa-4005-888b-5e73edeaca04.png, genre: 로맨스, views: 28896000, rating: -, like: 341000, description: ‘진실한 사랑이란 게 정말 있을까?’\\n\\n일이건 연애건 자신의 앞길은 자신이 개척할 수 있다며\\n늘 자신감 가득한 \"하이\".\\n\\n호기심 많고 무엇이든 도전해 보는 성격 탓에\\n건드리지 말아야 할 금단의 사과,\\n\"영현\"과 만나 쓴맛을 맛보게 되고,\\n일련의 사건들까지 엎친 데 덮친 격으로 일어나 \"하이\"는\\n서른셋 인생 처음으로 본인 마음대로 되지 않는 상황과\\n심리 상태에 직면한다.\\n\\n확신했던 것들에 대해 자신을 잃으며\\n괴로워하는 그녀의 곁엔 대학생 때부터\\n묵묵히 곁을 지켜온 \"혁우\"와\\n우연한 기회로 만나게 된 \"재희\"가 있는데...\\n\\n공허한 \"하이\"의 마음에 과연 진실한 사랑이 채워질 수 있을까?, keyword: [\\'설레는\\', \\'에로틱한\\', \\'로맨스\\', \\'치정물\\'], author: 조졸리, illustrator: 조졸리, original: , age_rating: 15세이용가, price_type: 3시간마다 무료, price_price: -'), Document(metadata={'age_rating': '전체이용가', 'author': '꼬리', 'description': '미친 외모의 남주, 루드릭 바우저.\\n…를 짝사랑하는 여자사람친구로 환생해 버렸다?!\\n\\n주인공들의 사랑놀음에 이용당할 운명이라니…\\n나, 달리아 에이버린은 금수저 라이프를 만끽하며\\n세계 각국의 미남들과 뜨거운 연애를 할 거야!\\n\\n그런데………\\n\\n“안녕하세요, 바우저 영애.”\\n“……으아앙!”\\n\\n여자애로 착각해 울려 버렸다?\\n\\n그 후 친해진 것도 잠시,\\n전쟁으로 헤어졌다 다시 만난 남주는……\\n\\n“못 본 새 눈이 많이 낮아졌나 봐, 에이버린 공녀.\"\"\\n\\n왜 내 연애 사업을 방해하고 난리야!\\n우리 그냥 친구 사이 아니었니?\\n\\n안 돼! 이번 생에는\\n남주의 가\\'족\\'같은 친구가 되어주겠어!', 'episode': 71, 'genre': '로판', 'id': 3360, 'illustrator': '꼬리', 'keywords': '발랄한, 귀여운, 로맨스 판타지, 로맨틱코미디물', 'like': 257000, 'original': '햇살수인', 'platform': '카카오웹툰', 'price_price': '-', 'price_type': '3시간마다 무료', 'rating': '-', 'status': '월 연재', 'thumbnail': 'https://kr-a.kakaopagecdn.com/P/C/3360/c2/2x/21156692-dfba-4c7b-9e37-7099fc7797a2.png', 'title': '남주의 여자사람친구가 되었다', 'type': '웹툰', 'url': 'https://webtoon.kakao.com/content/%EB%82%A8%EC%A3%BC%EC%9D%98-%EC%97%AC%EC%9E%90%EC%82%AC%EB%9E%8C%EC%B9%9C%EA%B5%AC%EA%B0%80-%EB%90%98%EC%97%88%EB%8B%A4/3360', 'views': 6545000}, page_content='id: 3360, type: 웹툰, platform: 카카오웹툰, title: 남주의 여자사람친구가 되었다, status: 월 연재, thumbnail: https://kr-a.kakaopagecdn.com/P/C/3360/c2/2x/21156692-dfba-4c7b-9e37-7099fc7797a2.png, genre: 로판, views: 6545000, rating: -, like: 257000, description: 미친 외모의 남주, 루드릭 바우저.\\n…를 짝사랑하는 여자사람친구로 환생해 버렸다?!\\n\\n주인공들의 사랑놀음에 이용당할 운명이라니…\\n나, 달리아 에이버린은 금수저 라이프를 만끽하며\\n세계 각국의 미남들과 뜨거운 연애를 할 거야!\\n\\n그런데………\\n\\n“안녕하세요, 바우저 영애.”\\n“……으아앙!”\\n\\n여자애로 착각해 울려 버렸다?\\n\\n그 후 친해진 것도 잠시,\\n전쟁으로 헤어졌다 다시 만난 남주는……\\n\\n“못 본 새 눈이 많이 낮아졌나 봐, 에이버린 공녀.\"\"\\n\\n왜 내 연애 사업을 방해하고 난리야!\\n우리 그냥 친구 사이 아니었니?\\n\\n안 돼! 이번 생에는\\n남주의 가\\'족\\'같은 친구가 되어주겠어!, keyword: [\\'발랄한\\', \\'귀여운\\', \\'로맨스 판타지\\', \\'로맨틱코미디물\\'], author: 꼬리, illustrator: 꼬리, original: 햇살수인, age_rating: 전체이용가, price_type: 3시간마다 무료, price_price: -'), Document(metadata={'age_rating': '12세 이용가', 'author': '주다현', 'description': '\"사람은 좀 죽여도 싸우는건 싫어해요.\" 게임에서조차 집 바깥을 나가지 않는 \\'제리\\'. 전투는 한 번도 안해봤는데, 에픽 무기가 귀속되었다? 가상현실 액션 RPG 모브사가 온라인. 그 고인물들의 군상극.', 'episode': 60, 'genre': '판타지', 'id': 785701, 'illustrator': '주다현', 'keywords': '2019 최강자전, 판타지, 고인물, 최강자전, 게임판타지', 'like': 58702, 'original': '-', 'platform': '네이버 웹툰', 'price_price': '-', 'price_type': '무료', 'rating': 9.90091, 'status': '휴재', 'thumbnail': 'https://image-comic.pstatic.net/webtoon/785701/thumbnail/thumbnail_IMAG21_b93b84ea-264c-47e2-9f55-24e719e65eb9.jpg', 'title': '가상&RPG', 'type': '웹툰', 'url': 'https://comic.naver.com/webtoon/list?titleId=785701', 'views': '-'}, page_content='id: 785701, type: 웹툰, platform: 네이버 웹툰, title: 가상&RPG, status: 휴재, thumbnail: https://image-comic.pstatic.net/webtoon/785701/thumbnail/thumbnail_IMAG21_b93b84ea-264c-47e2-9f55-24e719e65eb9.jpg, genre: 판타지, views: -, rating: 9.90091, like: 58702, description: \"사람은 좀 죽여도 싸우는건 싫어해요.\" 게임에서조차 집 바깥을 나가지 않는 \\'제리\\'. 전투는 한 번도 안해봤는데, 에픽 무기가 귀속되었다? 가상현실 액션 RPG 모브사가 온라인. 그 고인물들의 군상극., keyword: [\\'2019 최강자전\\', \\'판타지\\', \\'고인물\\', \\'최강자전\\', \\'게임판타지\\'], author: 주다현, illustrator: 주다현, original: -, age_rating: 12세 이용가, price_type: 무료, price_price: -'), Document(metadata={'age_rating': '전체이용가', 'author': 'DXD Animation', 'description': '황가의 피가 흐르는 황녀지만 열 살까지 밖에서 떠돌며 자란 파비안느. 어느 날 진짜 황녀라는 신분이 밝혀져 입궁하게 되지만, 그녀를 기다리고 있는 건... 제물 선택!제국은 8년 후, 황녀 한 명을 제물로 바쳐야 한다. 친딸은 아니지만 금지옥엽 아끼던 세리나와 10년 동안 서로 떨어져 생면부지였던 친딸, 파비안느.원작에서 황제는 세리나를 제물로 바쳤다. 하지만 세리나도, 파비안느도 결국 비극적 결말을 맞게 되는데...당신이 이 소설 속 파비안느에 빙의했다면 이야기를 어떻게 바꾸시겠습니까?원작을 아는 채로 파비안느가 된 여주, 세리나와의 궁중 암투에서 과연 어떤 선택을 할까?', 'episode': 138, 'genre': '로판', 'id': 60071257, 'illustrator': 'DXD Animation', 'keywords': '로맨스판타지, 궁정로맨스, 암투물, 빙의물, 여주판타지, 왕족/귀족, 오빠, 능력녀, 걸크러쉬, 경쟁구도, 로맨틱코미디', 'like': '-', 'original': '불탄소', 'platform': '카카오페이지', 'price_price': '-', 'price_type': '3일 기다리면 무료', 'rating': 9.3, 'status': '목 연재', 'thumbnail': 'https://dn-img-page.kakao.com/download/resource?kid=h9yi9/hyRyOFCL0H/OKEqsQnLztMkVd6lhKMU8k&filename=o1', 'title': '제물 황녀로 살아남겠습니다', 'type': '웹툰', 'url': 'https://page.kakao.com/content/60071257', 'views': 954000}, page_content=\"id: 60071257, type: 웹툰, platform: 카카오페이지, title: 제물 황녀로 살아남겠습니다, status: 목 연재, thumbnail: https://dn-img-page.kakao.com/download/resource?kid=h9yi9/hyRyOFCL0H/OKEqsQnLztMkVd6lhKMU8k&filename=o1, genre: 로판, views: 954000, rating: 9.3, like: -, description: 황가의 피가 흐르는 황녀지만 열 살까지 밖에서 떠돌며 자란 파비안느. 어느 날 진짜 황녀라는 신분이 밝혀져 입궁하게 되지만, 그녀를 기다리고 있는 건... 제물 선택!제국은 8년 후, 황녀 한 명을 제물로 바쳐야 한다. 친딸은 아니지만 금지옥엽 아끼던 세리나와 10년 동안 서로 떨어져 생면부지였던 친딸, 파비안느.원작에서 황제는 세리나를 제물로 바쳤다. 하지만 세리나도, 파비안느도 결국 비극적 결말을 맞게 되는데...당신이 이 소설 속 파비안느에 빙의했다면 이야기를 어떻게 바꾸시겠습니까?원작을 아는 채로 파비안느가 된 여주, 세리나와의 궁중 암투에서 과연 어떤 선택을 할까?, keyword: ['로맨스판타지', '궁정로맨스', '암투물', '빙의물', '여주판타지', '왕족/귀족', '오빠', '능력녀', '걸크러쉬', '경쟁구도', '로맨틱코미디'], author: DXD Animation, illustrator: DXD Animation, original: 불탄소, age_rating: 전체이용가, price_type: 3일 기다리면 무료, price_price: -\")]\u001b[0m\u001b[32;1m\u001b[1;3m\n",
      "Invoking: `search_web` with `{'query': '짝사랑 로맨스 판타지 웹툰 추천'}`\n",
      "\n",
      "\n",
      "\u001b[0m\u001b[33;1m\u001b[1;3m[Document(metadata={'title': ''}, page_content='짝사랑 · 이 구역의 미친 악녀는 나야 · 구원 방정식 · 상화담 · 이상한 나라의 그레이스 · 하녀의밤 [완전판] · 하녀의밤 [개정판] · 나를 구원하지 마세요.'), Document(metadata={'title': ''}, page_content='1. 버려진 나의 최애를 위하여. 네이버 웹툰에서도 인기있는 작품!! · 2. 악역 남편님, 집착할 분은 저쪽인데요 · 3. 흔한 빙의물인 줄 알았다 · 4. 당신이 사랑하는 동안에.')]\u001b[0m\u001b[32;1m\u001b[1;3m짝사랑을 테마로 한 로맨스 판타지 웹툰을 추천해드릴게요:\n",
      "\n",
      "1. **나쁜 X**\n",
      "   - 플랫폼: 카카오웹툰\n",
      "   - 장르: 로맨스\n",
      "   - 설명: 진실한 사랑이란 게 정말 있을까? 주인공 하이는 늘 자신감 가득한 성격으로, 여러 사건을 겪으며 진정한 사랑을 찾으려 합니다.\n",
      "   - [웹툰 보러 가기](https://webtoon.kakao.com/content/%EB%82%98%EC%81%9C-X/3056)\n",
      "\n",
      "2. **제물 황녀로 살아남겠습니다**\n",
      "   - 플랫폼: 카카오페이지\n",
      "   - 장르: 로맨스 판타지\n",
      "   - 설명: 황가의 피가 흐르는 황녀 파비안느가 제물로 선택될 위기에 처하며 벌어지는 궁중 암투와 사랑 이야기.\n",
      "   - [웹툰 보러 가기](https://page.kakao.com/content/60071257)\n",
      "\n",
      "3. **도망친 곳이 낙원이었다 [19세 완전판]**\n",
      "   - 플랫폼: 카카오페이지\n",
      "   - 장르: 로맨스 판타지\n",
      "   - 설명: 여러 번의 결혼과 사별을 겪은 세실리아가 회귀하여 새로운 삶을 시작하며 벌어지는 이야기.\n",
      "   - [웹소설 보러 가기](https://page.kakao.com/content/64688740)\n",
      "\n",
      "4. **매일 키스하는 남자**\n",
      "   - 플랫폼: 네이버 시리즈\n",
      "   - 장르: 미스터리 로맨스\n",
      "   - 설명: 짝사랑하는 그녀와의 첫 키스를 꿈꾸는 변시 준비생 서진국의 유쾌하고 달달한 사랑 이야기.\n",
      "   - [웹소설 보러 가기](https://series.naver.com/novel/detail.series?productNo=12101755)\n",
      "\n",
      "이 외에도 다양한 짝사랑 테마의 로맨스 판타지 작품들이 있으니, 취향에 맞는 작품을 찾아보세요!\u001b[0m\n",
      "\n",
      "\u001b[1m> Finished chain.\u001b[0m\n",
      "짝사랑을 테마로 한 로맨스 판타지 웹툰을 추천해드릴게요:\n",
      "\n",
      "1. **나쁜 X**\n",
      "   - 플랫폼: 카카오웹툰\n",
      "   - 장르: 로맨스\n",
      "   - 설명: 진실한 사랑이란 게 정말 있을까? 주인공 하이는 늘 자신감 가득한 성격으로, 여러 사건을 겪으며 진정한 사랑을 찾으려 합니다.\n",
      "   - [웹툰 보러 가기](https://webtoon.kakao.com/content/%EB%82%98%EC%81%9C-X/3056)\n",
      "\n",
      "2. **제물 황녀로 살아남겠습니다**\n",
      "   - 플랫폼: 카카오페이지\n",
      "   - 장르: 로맨스 판타지\n",
      "   - 설명: 황가의 피가 흐르는 황녀 파비안느가 제물로 선택될 위기에 처하며 벌어지는 궁중 암투와 사랑 이야기.\n",
      "   - [웹툰 보러 가기](https://page.kakao.com/content/60071257)\n",
      "\n",
      "3. **도망친 곳이 낙원이었다 [19세 완전판]**\n",
      "   - 플랫폼: 카카오페이지\n",
      "   - 장르: 로맨스 판타지\n",
      "   - 설명: 여러 번의 결혼과 사별을 겪은 세실리아가 회귀하여 새로운 삶을 시작하며 벌어지는 이야기.\n",
      "   - [웹소설 보러 가기](https://page.kakao.com/content/64688740)\n",
      "\n",
      "4. **매일 키스하는 남자**\n",
      "   - 플랫폼: 네이버 시리즈\n",
      "   - 장르: 미스터리 로맨스\n",
      "   - 설명: 짝사랑하는 그녀와의 첫 키스를 꿈꾸는 변시 준비생 서진국의 유쾌하고 달달한 사랑 이야기.\n",
      "   - [웹소설 보러 가기](https://series.naver.com/novel/detail.series?productNo=12101755)\n",
      "\n",
      "이 외에도 다양한 짝사랑 테마의 로맨스 판타지 작품들이 있으니, 취향에 맞는 작품을 찾아보세요!\n"
     ]
    }
   ],
   "source": [
    "# 최종 응답 생성\n",
    "final_response = agent_executor.invoke(\n",
    "    {\n",
    "        \"question\": query,\n",
    "        \"context\": combined_context,\n",
    "        \"history\": history,\n",
    "    }\n",
    ")\n",
    "\n",
    "print(final_response[\"output\"])"
   ]
  },
  {
   "cell_type": "code",
   "execution_count": null,
   "metadata": {},
   "outputs": [],
   "source": []
  }
 ],
 "metadata": {
  "kernelspec": {
   "display_name": "langchain",
   "language": "python",
   "name": "python3"
  },
  "language_info": {
   "codemirror_mode": {
    "name": "ipython",
    "version": 3
   },
   "file_extension": ".py",
   "mimetype": "text/x-python",
   "name": "python",
   "nbconvert_exporter": "python",
   "pygments_lexer": "ipython3",
   "version": "3.11.10"
  }
 },
 "nbformat": 4,
 "nbformat_minor": 2
}
