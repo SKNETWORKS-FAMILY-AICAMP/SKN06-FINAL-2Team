{
 "cells": [
  {
   "cell_type": "code",
   "execution_count": null,
   "metadata": {},
   "outputs": [],
   "source": [
    "pip install langchain langchain-core langchain-community openai chromadb tiktoken langchain-chroma langchain-openai ragas -qU"
   ]
  },
  {
   "cell_type": "markdown",
   "metadata": {},
   "source": [
    "### VectorStore 생성(전처리 안함)\n"
   ]
  },
  {
   "cell_type": "code",
   "execution_count": 1,
   "metadata": {},
   "outputs": [],
   "source": [
    "from langchain_chroma import Chroma\n",
    "from langchain_openai import OpenAIEmbeddings\n",
    "from langchain.schema import Document\n",
    "import json"
   ]
  },
  {
   "cell_type": "code",
   "execution_count": 2,
   "metadata": {},
   "outputs": [],
   "source": [
    "# 경로 설정\n",
    "PERSIST_DIRECTORY = r\"Raw_DB\\vector_store\\contents\"\n",
    "COLLECTION_NAME = \"contents\"\n",
    "EMBEDDING_MODEL_NAME = \"text-embedding-ada-002\"\n",
    "embedding_model = OpenAIEmbeddings(model=EMBEDDING_MODEL_NAME)\n",
    "\n",
    "\n",
    "# JSON 데이터 불러오기\n",
    "with open(\"Raw_DB/total.json\", \"r\", encoding=\"utf-8\") as f:\n",
    "    total = json.load(f)\n",
    "\n",
    "# Document 객체로 변환\n",
    "documents = []\n",
    "for idx in range(len(total)):\n",
    "    content = total[idx]\n",
    "    merged_text = f\"id: {content[\"id\"]}, type: {content[\"type\"]}, platform: {content[\"platform\"]}, title: {content[\"title\"]}, status: {content[\"status\"]}, thumbnail: {content[\"thumbnail\"]}, genre: {content['genre']}, views: {content[\"views\"]}, rating: {content[\"rating\"]}, like: {content[\"like\"]}, description: {content[\"description\"]}, keyword: {content[\"keywords\"]}, author: {content['author']}, illustrator: {content['illustrator']}, original: {content['original']}, age_rating: {content['age_rating']}, price_type: {content['price_type']}, price_price: {content['price_price']}\"\n",
    "    if isinstance(content[\"keywords\"], str):\n",
    "        keywords = content[\"keywords\"]\n",
    "    else:\n",
    "        keywords = \", \".join(content[\"keywords\"])\n",
    "    documents.append(\n",
    "        Document(\n",
    "            page_content=merged_text,\n",
    "            metadata={\n",
    "                \"type\": content[\"type\"],\n",
    "                \"platform\": content[\"platform\"],\n",
    "                \"title\": content[\"title\"],\n",
    "                \"genre\": content[\"genre\"],\n",
    "                \"author\": content[\"author\"],\n",
    "                \"age_rating\": content[\"age_rating\"],\n",
    "                \"price_type\": content[\"price_type\"],\n",
    "            },\n",
    "        )\n",
    "    )"
   ]
  },
  {
   "cell_type": "code",
   "execution_count": null,
   "metadata": {},
   "outputs": [],
   "source": [
    "from pprint import pprint\n",
    "\n",
    "pprint(documents)"
   ]
  },
  {
   "cell_type": "code",
   "execution_count": null,
   "metadata": {},
   "outputs": [
    {
     "ename": "TypeError",
     "evalue": "Chroma.__init__() got an unexpected keyword argument 'documents'",
     "output_type": "error",
     "traceback": [
      "\u001b[1;31m---------------------------------------------------------------------------\u001b[0m",
      "\u001b[1;31mTypeError\u001b[0m                                 Traceback (most recent call last)",
      "Cell \u001b[1;32mIn[3], line 1\u001b[0m\n\u001b[1;32m----> 1\u001b[0m vector_store \u001b[38;5;241m=\u001b[39m \u001b[43mChroma\u001b[49m\u001b[43m(\u001b[49m\n\u001b[0;32m      2\u001b[0m \u001b[43m    \u001b[49m\u001b[43mdocuments\u001b[49m\u001b[38;5;241;43m=\u001b[39;49m\u001b[43mdocuments\u001b[49m\u001b[43m,\u001b[49m\n\u001b[0;32m      3\u001b[0m \u001b[43m    \u001b[49m\u001b[43membedding\u001b[49m\u001b[38;5;241;43m=\u001b[39;49m\u001b[43membedding_model\u001b[49m\u001b[43m,\u001b[49m\n\u001b[0;32m      4\u001b[0m \u001b[43m    \u001b[49m\u001b[43mcollection_name\u001b[49m\u001b[38;5;241;43m=\u001b[39;49m\u001b[43mCOLLECTION_NAME\u001b[49m\u001b[43m,\u001b[49m\n\u001b[0;32m      5\u001b[0m \u001b[43m    \u001b[49m\u001b[43mpersist_directory\u001b[49m\u001b[38;5;241;43m=\u001b[39;49m\u001b[43mPERSIST_DIRECTORY\u001b[49m\u001b[43m,\u001b[49m\n\u001b[0;32m      6\u001b[0m \u001b[43m)\u001b[49m\n\u001b[0;32m      7\u001b[0m results \u001b[38;5;241m=\u001b[39m vector_store\u001b[38;5;241m.\u001b[39msimilarity_search(\u001b[38;5;124m\"\u001b[39m\u001b[38;5;124m지금 거신 전화는\u001b[39m\u001b[38;5;124m\"\u001b[39m)\n\u001b[0;32m      8\u001b[0m \u001b[38;5;28mprint\u001b[39m(results[\u001b[38;5;241m0\u001b[39m] \u001b[38;5;28;01mif\u001b[39;00m results \u001b[38;5;28;01melse\u001b[39;00m \u001b[38;5;124m\"\u001b[39m\u001b[38;5;124m검색 결과 없음\u001b[39m\u001b[38;5;124m\"\u001b[39m)\n",
      "\u001b[1;31mTypeError\u001b[0m: Chroma.__init__() got an unexpected keyword argument 'documents'"
     ]
    }
   ],
   "source": [
    "vector_store = Chroma.from_documents(\n",
    "    documents=documents,\n",
    "    embedding=embedding_model,\n",
    "    collection_name=COLLECTION_NAME,\n",
    "    persist_directory=PERSIST_DIRECTORY,\n",
    ")\n",
    "results = vector_store.similarity_search(\"지금 거신 전화는\")\n",
    "print(results[0] if results else \"검색 결과 없음\")"
   ]
  }
 ],
 "metadata": {
  "kernelspec": {
   "display_name": "final_project",
   "language": "python",
   "name": "python3"
  },
  "language_info": {
   "codemirror_mode": {
    "name": "ipython",
    "version": 3
   },
   "file_extension": ".py",
   "mimetype": "text/x-python",
   "name": "python",
   "nbconvert_exporter": "python",
   "pygments_lexer": "ipython3",
   "version": "3.12.8"
  }
 },
 "nbformat": 4,
 "nbformat_minor": 2
}
