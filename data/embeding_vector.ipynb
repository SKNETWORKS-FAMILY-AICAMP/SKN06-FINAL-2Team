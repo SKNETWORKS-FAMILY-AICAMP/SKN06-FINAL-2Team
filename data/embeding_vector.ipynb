{
 "cells": [
  {
   "cell_type": "code",
   "execution_count": null,
   "metadata": {},
   "outputs": [],
   "source": [
    "import json\n",
    "import os\n",
    "from langchain.vectorstores import Chroma\n",
    "from langchain.embeddings import OpenAIEmbeddings\n",
    "from langchain.schema import Document\n",
    "\n",
    "# OpenAI 임베딩 설정\n",
    "embedding_model = OpenAIEmbeddings(model=\"text-embedding-3-small\")\n",
    "\n",
    "# 벡터 스토어 저장 경로\n",
    "VECTOR_STORE_DIR = \"vector_store\"\n",
    "\n",
    "# JSON 데이터를 벡터 스토어에 저장하는 함수\n",
    "def json_to_vector_store(json_filename, store_name):\n",
    "    with open(json_filename, \"r\", encoding=\"utf-8\") as f:\n",
    "        total = json.load(f)\n",
    "\n",
    "    documents = []\n",
    "    for idx in range(len(total)):\n",
    "        content = total[idx]\n",
    "        merged_text = f\"{content['title']}({content['platform']})-{content['description']}, genre:{content['genre']}, keywords: {content['keywords']}\"\n",
    "        if isinstance(content['keywords'], str):\n",
    "            keywords = content['keywords']\n",
    "        else:\n",
    "            keywords = \", \".join(content['keywords'])\n",
    "        documents.append(\n",
    "            Document(\n",
    "                page_content=merged_text,\n",
    "                metadata={\n",
    "                    \"title\": content[\"title\"],\n",
    "                    \"type\": content[\"type\"],\n",
    "                    \"platform\": content[\"platform\"],\n",
    "                    \"status\": content[\"status\"],\n",
    "                    \"genre\": content[\"genre\"],\n",
    "                    \"views\": content[\"views\"],\n",
    "                    \"age_rating\": content[\"age_rating\"],\n",
    "                    \"price\": content[\"price_price\"],\n",
    "                    \"url\": content[\"url\"],\n",
    "                    \"episode\": content[\"episode\"],\n",
    "                },\n",
    "            )\n",
    "        )  \n",
    "\n",
    "    # 벡터 저장소 생성 및 저장\n",
    "    store_path = os.path.join(VECTOR_STORE_DIR, store_name)\n",
    "    vector_store = Chroma.from_documents(documents=documents, embedding=embedding_model, persist_directory=store_path)\n",
    "    vector_store.persist()\n",
    "\n",
    "# 각 JSON 파일을 벡터로 변환하여 저장\n",
    "json_to_vector_store(\"C:/Project/Final_test/data/Raw_DB/total_webtoon.json\", \"webtoon_vector_store\")\n",
    "json_to_vector_store(\"C:/Project/Final_test/data/Raw_DB/total_webnovel.json\", \"webnovel_vector_store\")\n",
    "\n",
    "print(\"JSON 파일들을 벡터로 변환하여 저장 완료.\")"
   ]
  }
 ],
 "metadata": {
  "kernelspec": {
   "display_name": "final",
   "language": "python",
   "name": "python3"
  },
  "language_info": {
   "codemirror_mode": {
    "name": "ipython",
    "version": 3
   },
   "file_extension": ".py",
   "mimetype": "text/x-python",
   "name": "python",
   "nbconvert_exporter": "python",
   "pygments_lexer": "ipython3",
   "version": "3.12.8"
  }
 },
 "nbformat": 4,
 "nbformat_minor": 2
}
