{
 "cells": [
  {
   "cell_type": "markdown",
   "metadata": {},
   "source": [
    "#### 장르\n",
    "- naver_series_novel_01_로맨스 ~ 1833\n",
    "https://series.naver.com/novel/categoryProductList.series?categoryTypeCode=genre&genreCode=201\n",
    "\n",
    "\n",
    "-  naver_series_novel_02_로판 ~ 619\n",
    "https://series.naver.com/novel/categoryProductList.series?categoryTypeCode=genre&genreCode=207\n",
    "\n",
    "\n",
    "- naver_series_novel_03_판타지 ~493\n",
    "https://series.naver.com/novel/categoryProductList.series?categoryTypeCode=genre&genreCode=202\n",
    "\n",
    "\n",
    "- naver_series_novel_04_현판 ~401\n",
    "https://series.naver.com/novel/categoryProductList.series?categoryTypeCode=genre&genreCode=208\n",
    "\n",
    "\n",
    "- naver_series_novel_05_무협 ~218\n",
    "https://series.naver.com/novel/categoryProductList.series?categoryTypeCode=genre&genreCode=206\n",
    "\n",
    "\n",
    "- naver_series_novel_06_미스터리 ~28\n",
    "https://series.naver.com/novel/categoryProductList.series?categoryTypeCode=genre&genreCode=203\n",
    "\n",
    "\n",
    "- naver_series_novel_07_라이트노벨 ~39\n",
    "https://series.naver.com/novel/categoryProductList.series?categoryTypeCode=genre&genreCode=205\n",
    "\n",
    "\n",
    "- naver_series_novel_08_BL ~401\n",
    "https://series.naver.com/novel/categoryProductList.series?categoryTypeCode=genre&genreCode=209"
   ]
  },
  {
   "cell_type": "markdown",
   "metadata": {},
   "source": [
    "#### 네이버 - 시리즈 웹소설 장르별 (url) + pickle 저장   1page"
   ]
  },
  {
   "cell_type": "code",
   "execution_count": 19,
   "metadata": {},
   "outputs": [
    {
     "name": "stdout",
     "output_type": "stream",
     "text": [
      "크롤링된 소설 URL 25개가 저장되었습니다.\n",
      "pickle 파일 경로: sample/ns_wn_08.pkl\n"
     ]
    }
   ],
   "source": [
    "import urllib.request\n",
    "from bs4 import BeautifulSoup\n",
    "import pickle\n",
    "import os\n",
    "\n",
    "# 네이버 시리즈 URL 설정\n",
    "url = \"https://series.naver.com/novel/categoryProductList.series?categoryTypeCode=genre&genreCode=209\"\n",
    "headers = {\n",
    "    \"User-Agent\": \"Mozilla/5.0 (Windows NT 10.0; Win64; x64) AppleWebKit/537.36 (KHTML, like Gecko) Chrome/91.0.4472.124 Safari/537.36\"\n",
    "}\n",
    "req = urllib.request.Request(url, headers=headers)\n",
    "sourcecode = urllib.request.urlopen(req).read()\n",
    "soup = BeautifulSoup(sourcecode, \"html.parser\")\n",
    "\n",
    "# 소설 URL 추출\n",
    "seriesnovel_urls = []\n",
    "for href in soup.find(\"div\", class_=\"NE=a:lst\").find_all(\"li\"):\n",
    "    link = href.find(\"a\")  # a 태그 가져오기\n",
    "    if link and \"href\" in link.attrs:\n",
    "        href_value = link[\"href\"]\n",
    "        # 필터링: \"categoryProductList\" 포함 링크 제외\n",
    "        if \"categoryProductList.series\" not in href_value:\n",
    "            full_url = \"https://series.naver.com\" + href_value\n",
    "            seriesnovel_urls.append(full_url)\n",
    "\n",
    "# pickle 저장 함수 정의\n",
    "def save_pickle(path: str, file_name: str, data: list):\n",
    "    \"\"\"\n",
    "    데이터를 pickle 파일로 저장.\n",
    "    \"\"\"\n",
    "    os.makedirs(path, exist_ok=True)\n",
    "    with open(f\"{path}/{file_name}\", \"wb\") as f:\n",
    "        pickle.dump(data, f)\n",
    "\n",
    "# 저장 경로 생성\n",
    "DATA_DIR = \"sample\"\n",
    "os.makedirs(DATA_DIR, exist_ok=True)\n",
    "\n",
    "# pickle 파일로 저장\n",
    "file_name = \"ns_wn_08.pkl\"                ####  파일명 계속 변경되는것 주의\n",
    "save_pickle(DATA_DIR, file_name, seriesnovel_urls)\n",
    "\n",
    "# 저장 완료 메시지 출력\n",
    "print(f\"크롤링된 소설 URL {len(seriesnovel_urls)}개가 저장되었습니다.\")\n",
    "print(f\"pickle 파일 경로: {DATA_DIR}/{file_name}\")\n"
   ]
  },
  {
   "cell_type": "markdown",
   "metadata": {},
   "source": [
    "#### 피클로 저장된 데이터 1p load -> 10개만 따로저장"
   ]
  },
  {
   "cell_type": "code",
   "execution_count": 20,
   "metadata": {},
   "outputs": [
    {
     "name": "stdout",
     "output_type": "stream",
     "text": [
      "상위 10개 URL이 저장되었습니다.\n",
      "pickle 파일 경로: sample/ns_wn_08_top10.pkl\n"
     ]
    }
   ],
   "source": [
    "import pickle\n",
    "import os\n",
    "\n",
    "# pickle 파일 로드 함수\n",
    "def load_pickle(file_path: str):\n",
    "    \"\"\"\n",
    "    pickle 파일에서 데이터를 로드.\n",
    "    \"\"\"\n",
    "    with open(file_path, \"rb\") as f:\n",
    "        return pickle.load(f)\n",
    "\n",
    "# pickle 파일 저장 함수\n",
    "def save_pickle(path: str, file_name: str, data: list):\n",
    "    \"\"\"\n",
    "    데이터를 pickle 파일로 저장.\n",
    "    \"\"\"\n",
    "    os.makedirs(path, exist_ok=True)\n",
    "    with open(f\"{path}/{file_name}\", \"wb\") as f:\n",
    "        pickle.dump(data, f)\n",
    "\n",
    "# 업로드된 파일 경로\n",
    "uploaded_file_path = \"sample/ns_wn_08.pkl\"\n",
    "\n",
    "# 데이터를 로드\n",
    "seriesnovel_urls = load_pickle(uploaded_file_path)\n",
    "\n",
    "# 상위 10개 URL 추출\n",
    "top_10_urls = seriesnovel_urls[:10]\n",
    "\n",
    "# 저장 경로 및 파일명 설정\n",
    "DATA_DIR = \"sample\"\n",
    "file_name = \"ns_wn_08_top10.pkl\"\n",
    "\n",
    "# 상위 10개 URL 저장\n",
    "save_pickle(DATA_DIR, file_name, top_10_urls)\n",
    "\n",
    "# 완료 메시지 출력\n",
    "print(f\"상위 10개 URL이 저장되었습니다.\")\n",
    "print(f\"pickle 파일 경로: {DATA_DIR}/{file_name}\")\n"
   ]
  },
  {
   "cell_type": "markdown",
   "metadata": {},
   "source": [
    "#### 저장된 파일 로드, 확인"
   ]
  },
  {
   "cell_type": "code",
   "execution_count": 28,
   "metadata": {},
   "outputs": [
    {
     "name": "stdout",
     "output_type": "stream",
     "text": [
      "로드된 데이터 개수: 10개\n",
      "https://series.naver.com/novel/detail.series?productNo=12048233\n",
      "https://series.naver.com/novel/detail.series?productNo=3311311\n",
      "https://series.naver.com/novel/detail.series?productNo=12047886\n",
      "https://series.naver.com/novel/detail.series?productNo=12124704\n",
      "https://series.naver.com/novel/detail.series?productNo=12047121\n",
      "https://series.naver.com/novel/detail.series?productNo=11959901\n",
      "https://series.naver.com/novel/detail.series?productNo=11959924\n",
      "https://series.naver.com/novel/detail.series?productNo=10325585\n",
      "https://series.naver.com/novel/detail.series?productNo=12109155\n",
      "https://series.naver.com/novel/detail.series?productNo=12116747\n"
     ]
    }
   ],
   "source": [
    "import pickle\n",
    "\n",
    "def load_pickle(path: str):\n",
    "    \"\"\"\n",
    "    pickle 파일에서 데이터를 불러옵니다.\n",
    "    \"\"\"\n",
    "    with open(path, \"rb\") as f:\n",
    "        return pickle.load(f)\n",
    "\n",
    "# 저장된 파일 경로\n",
    "\n",
    "# file_path = \"sample/ns_wn_01_top10.pkl\"\n",
    "# file_path = \"sample/ns_wn_02_top10.pkl\"\n",
    "# file_path = \"sample/ns_wn_03_top10.pkl\"\n",
    "# file_path = \"sample/ns_wn_04_top10.pkl\"\n",
    "# file_path = \"sample/ns_wn_05_top10.pkl\"\n",
    "# file_path = \"sample/ns_wn_06_top10.pkl\"\n",
    "# file_path = \"sample/ns_wn_07_top10.pkl\"\n",
    "file_path = \"sample/ns_wn_08_top10.pkl\"\n",
    "\n",
    "# pickle 데이터 로드\n",
    "loaded_data = load_pickle(file_path)\n",
    "\n",
    "# 로드된 데이터 출력\n",
    "print(f\"로드된 데이터 개수: {len(loaded_data)}개\")\n",
    "for url in loaded_data:\n",
    "    print(url)"
   ]
  },
  {
   "cell_type": "markdown",
   "metadata": {},
   "source": [
    "<!-- #### 데이터 머징 -->"
   ]
  },
  {
   "cell_type": "code",
   "execution_count": 29,
   "metadata": {},
   "outputs": [
    {
     "name": "stdout",
     "output_type": "stream",
     "text": [
      "sample/ns_wn_01_top10.pkl 로드 완료\n",
      "10\n",
      "sample/ns_wn_02_top10.pkl 로드 완료\n",
      "20\n",
      "sample/ns_wn_03_top10.pkl 로드 완료\n",
      "30\n",
      "sample/ns_wn_04_top10.pkl 로드 완료\n",
      "40\n",
      "sample/ns_wn_05_top10.pkl 로드 완료\n",
      "50\n",
      "sample/ns_wn_06_top10.pkl 로드 완료\n",
      "60\n",
      "sample/ns_wn_07_top10.pkl 로드 완료\n",
      "70\n",
      "sample/ns_wn_08_top10.pkl 로드 완료\n",
      "80\n",
      "머징 완료\n",
      "80개 저장 완료\n"
     ]
    }
   ],
   "source": [
    "total_link_list = []\n",
    "file_list = [\n",
    "    \"sample/ns_wn_01_top10.pkl\",\n",
    "    \"sample/ns_wn_02_top10.pkl\",\n",
    "    \"sample/ns_wn_03_top10.pkl\",\n",
    "    \"sample/ns_wn_04_top10.pkl\",\n",
    "    \"sample/ns_wn_05_top10.pkl\",\n",
    "    \"sample/ns_wn_06_top10.pkl\",\n",
    "    \"sample/ns_wn_07_top10.pkl\",\n",
    "    \"sample/ns_wn_08_top10.pkl\",\n",
    "\n",
    "]\n",
    "\n",
    "for file in file_list:\n",
    "    with open(file, \"rb\") as f:\n",
    "        link_list = pickle.load(f)\n",
    "    print(f\"{file} 로드 완료\")\n",
    "\n",
    "    total_link_list += link_list\n",
    "    print(len(total_link_list))\n",
    "\n",
    "print(\"머징 완료\")\n",
    "\n",
    "\n",
    "with open(\"ns_wn.pkl\", \"wb\") as f:\n",
    "    pickle.dump(total_link_list, f)\n",
    "print(f\"{len(total_link_list)}개 저장 완료\")\n"
   ]
  },
  {
   "cell_type": "markdown",
   "metadata": {},
   "source": [
    "#### 확장자 변경 :pkl -> json"
   ]
  },
  {
   "cell_type": "code",
   "execution_count": 30,
   "metadata": {},
   "outputs": [
    {
     "name": "stdout",
     "output_type": "stream",
     "text": [
      "['https://series.naver.com/novel/detail.series?productNo=10841881', 'https://series.naver.com/novel/detail.series?productNo=12108286', 'https://series.naver.com/novel/detail.series?productNo=12043218', 'https://series.naver.com/novel/detail.series?productNo=12108108', 'https://series.naver.com/novel/detail.series?productNo=12113604', 'https://series.naver.com/novel/detail.series?productNo=12123086', 'https://series.naver.com/novel/detail.series?productNo=12119289', 'https://series.naver.com/novel/detail.series?productNo=12102331', 'https://series.naver.com/novel/detail.series?productNo=11821722', 'https://series.naver.com/novel/detail.series?productNo=12089171', 'https://series.naver.com/novel/detail.series?productNo=11355840', 'https://series.naver.com/novel/detail.series?productNo=11882953', 'https://series.naver.com/novel/detail.series?productNo=11881243', 'https://series.naver.com/novel/detail.series?productNo=11830533', 'https://series.naver.com/novel/detail.series?productNo=12024956', 'https://series.naver.com/novel/detail.series?productNo=11763035', 'https://series.naver.com/novel/detail.series?productNo=11913194', 'https://series.naver.com/novel/detail.series?productNo=11160878', 'https://series.naver.com/novel/detail.series?productNo=11767950', 'https://series.naver.com/novel/detail.series?productNo=12090046', 'https://series.naver.com/novel/detail.series?productNo=11766770', 'https://series.naver.com/novel/detail.series?productNo=8758513', 'https://series.naver.com/novel/detail.series?productNo=11266694', 'https://series.naver.com/novel/detail.series?productNo=11288726', 'https://series.naver.com/novel/detail.series?productNo=11532181', 'https://series.naver.com/novel/detail.series?productNo=11268922', 'https://series.naver.com/novel/detail.series?productNo=11787132', 'https://series.naver.com/novel/detail.series?productNo=11467997', 'https://series.naver.com/novel/detail.series?productNo=9060714', 'https://series.naver.com/novel/detail.series?productNo=10608151', 'https://series.naver.com/novel/detail.series?productNo=9457475', 'https://series.naver.com/novel/detail.series?productNo=11991315', 'https://series.naver.com/novel/detail.series?productNo=12024053', 'https://series.naver.com/novel/detail.series?productNo=11322397', 'https://series.naver.com/novel/detail.series?productNo=11938240', 'https://series.naver.com/novel/detail.series?productNo=11066589', 'https://series.naver.com/novel/detail.series?productNo=11326901', 'https://series.naver.com/novel/detail.series?productNo=11860568', 'https://series.naver.com/novel/detail.series?productNo=12044899', 'https://series.naver.com/novel/detail.series?productNo=10757807', 'https://series.naver.com/novel/detail.series?productNo=9859250', 'https://series.naver.com/novel/detail.series?productNo=11569751', 'https://series.naver.com/novel/detail.series?productNo=11491180', 'https://series.naver.com/novel/detail.series?productNo=11966625', 'https://series.naver.com/novel/detail.series?productNo=12022292', 'https://series.naver.com/novel/detail.series?productNo=11401985', 'https://series.naver.com/novel/detail.series?productNo=11595091', 'https://series.naver.com/novel/detail.series?productNo=11547111', 'https://series.naver.com/novel/detail.series?productNo=11215822', 'https://series.naver.com/novel/detail.series?productNo=11526418', 'https://series.naver.com/novel/detail.series?productNo=12101755', 'https://series.naver.com/novel/detail.series?productNo=11709027', 'https://series.naver.com/novel/detail.series?productNo=12080877', 'https://series.naver.com/novel/detail.series?productNo=10377870', 'https://series.naver.com/novel/detail.series?productNo=12061229', 'https://series.naver.com/novel/detail.series?productNo=11734158', 'https://series.naver.com/novel/detail.series?productNo=11696236', 'https://series.naver.com/novel/detail.series?productNo=11553325', 'https://series.naver.com/novel/detail.series?productNo=8374312', 'https://series.naver.com/novel/detail.series?productNo=8269228', 'https://series.naver.com/novel/detail.series?productNo=5640509', 'https://series.naver.com/novel/detail.series?productNo=11888637', 'https://series.naver.com/novel/detail.series?productNo=11888649', 'https://series.naver.com/novel/detail.series?productNo=11618799', 'https://series.naver.com/novel/detail.series?productNo=8071272', 'https://series.naver.com/novel/detail.series?productNo=8685698', 'https://series.naver.com/novel/detail.series?productNo=9893034', 'https://series.naver.com/novel/detail.series?productNo=9627638', 'https://series.naver.com/novel/detail.series?productNo=9627641', 'https://series.naver.com/novel/detail.series?productNo=9990784', 'https://series.naver.com/novel/detail.series?productNo=12048233', 'https://series.naver.com/novel/detail.series?productNo=3311311', 'https://series.naver.com/novel/detail.series?productNo=12047886', 'https://series.naver.com/novel/detail.series?productNo=12124704', 'https://series.naver.com/novel/detail.series?productNo=12047121', 'https://series.naver.com/novel/detail.series?productNo=11959901', 'https://series.naver.com/novel/detail.series?productNo=11959924', 'https://series.naver.com/novel/detail.series?productNo=10325585', 'https://series.naver.com/novel/detail.series?productNo=12109155', 'https://series.naver.com/novel/detail.series?productNo=12116747']\n"
     ]
    }
   ],
   "source": [
    "import pickle\n",
    "import json\n",
    "import pprint\n",
    "\n",
    "# pkl 파일 로드\n",
    "with open('ns_wn.pkl', 'rb') as pkl_file:\n",
    "    data = pickle.load(pkl_file)\n",
    "\n",
    "# JSON으로 변환 및 저장\n",
    "with open('ns_wn.json', 'w', encoding='utf-8') as json_file:\n",
    "    json.dump(data, json_file, ensure_ascii=False, indent=4)\n",
    "\n",
    "# 저장된 JSON 파일 로드\n",
    "with open('ns_wn.json', 'r', encoding='utf-8') as json_file:\n",
    "    loaded_json_data = json.load(json_file)    \n",
    "\n",
    "print(loaded_json_data)\n"
   ]
  },
  {
   "cell_type": "code",
   "execution_count": null,
   "metadata": {},
   "outputs": [],
   "source": []
  }
 ],
 "metadata": {
  "kernelspec": {
   "display_name": "python",
   "language": "python",
   "name": "python3"
  },
  "language_info": {
   "codemirror_mode": {
    "name": "ipython",
    "version": 3
   },
   "file_extension": ".py",
   "mimetype": "text/x-python",
   "name": "python",
   "nbconvert_exporter": "python",
   "pygments_lexer": "ipython3",
   "version": "3.12.5"
  }
 },
 "nbformat": 4,
 "nbformat_minor": 2
}
