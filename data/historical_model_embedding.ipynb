{
 "cells": [
  {
   "cell_type": "code",
   "execution_count": null,
   "metadata": {},
   "outputs": [],
   "source": [
    "# import subprocess\n",
    "\n",
    "# # 필요한 패키지 리스트\n",
    "# packages = [\n",
    "#     \"sentence-transformers\",\n",
    "#     \"scikit-learn\",\n",
    "#     \"langchain\",\n",
    "#     \"langchain-community\",\n",
    "#     \"langchain sentence-transformers\",\n",
    "# ]\n",
    "\n",
    "# # 패키지 설치\n",
    "# for package in packages:\n",
    "#     subprocess.run([\"pip\", \"install\", package])"
   ]
  },
  {
   "cell_type": "code",
   "execution_count": null,
   "metadata": {},
   "outputs": [],
   "source": [
    "# # %pip install langchain lanchain-openai langchain-chroma langchain-huggingface langchain-community \n",
    "# %pip install chromadb"
   ]
  },
  {
   "cell_type": "code",
   "execution_count": null,
   "metadata": {},
   "outputs": [
    {
     "name": "stderr",
     "output_type": "stream",
     "text": [
      "2025-03-06 17:04:00,176 - INFO - 총 685개의 항목 로드 완료!\n",
      "2025-03-06 17:04:00,182 - INFO - 총 685개의 Document 변환 완료!\n"
     ]
    }
   ],
   "source": [
    "import json\n",
    "import pandas as pd\n",
    "import numpy as np\n",
    "import logging\n",
    "import os\n",
    "from sklearn.preprocessing import MultiLabelBinarizer, OneHotEncoder\n",
    "from sklearn.preprocessing import MinMaxScaler\n",
    "from langchain.schema import Document  # LangChain의 Document 객체 활용\n",
    "from langchain_chroma import Chroma\n",
    "from langchain_huggingface import HuggingFaceEmbeddings\n",
    "from langchain_openai import OpenAIEmbeddings\n",
    "from langchain_community.chat_models import ChatOpenAI\n",
    "\n",
    "from dotenv import load_dotenv\n",
    "logging.basicConfig(level=logging.INFO, format='%(asctime)s - %(levelname)s - %(message)s')\n",
    "\n",
    "load_dotenv()\n",
    "\n",
    "# 1. genres → sub_genres 매핑 딕셔너리 정의\n",
    "genre_to_sub_genre = {\n",
    "    # \"romance\": [\"로맨스\", \"BL\"],\n",
    "    # \"rofan\": [\"로판\", \"로맨스 판타지\"],\n",
    "    # \"drama\": [\"드라마\", \"라이트노벨\"],\n",
    "    \"historical\": [\"무협/사극\", \"무협\", \"액션/무협\"],\n",
    "    # \"cartoon\": [\"코믹/일상\", \"일상\", \"개그\", \"감성\"],\n",
    "    # \"horror\": [\"공포/스릴러\", \"스릴러\", \"미스터리\"],\n",
    "    # \"action\": [\"액션\", \"스포츠\"],\n",
    "    # \"fantasy\": [\"판타지 드라마\", \"판타지\", \"현판\", \"학원/판타지\"],\n",
    "}\n",
    "\n",
    "# 2. JSON 데이터 로드\n",
    "json_file_paths = [\n",
    "    # \"webtoon_kko무협.json\",\n",
    "    # \"webnovel_kkopage_martial_arts.json\",\n",
    "    # \"webnovel_naverseries_wuxia.json\",\n",
    "    # \"webtoon_kkopage_historical.json\",\n",
    "    # \"webtoon_kkopage_액션_무협.json\",\n",
    "    # \"webtoon_naver_무협_사극.json\",\n",
    "]\n",
    "\n",
    "# JSON 데이터 로드\n",
    "dataset = []  # 데이터를 저장할 리스트\n",
    "for file_path in json_file_paths:\n",
    "    with open(file_path, \"r\", encoding=\"utf-8\") as f:\n",
    "        data = json.load(f)\n",
    "        if isinstance(data, list):  # 리스트라면 dataset에 확장하여 추가\n",
    "            dataset.extend(data)\n",
    "        else:  # 단일 객체라면 그냥 추가\n",
    "            dataset.append(data)\n",
    "\n",
    "logging.info(f\"총 {len(dataset)}개의 항목 로드 완료!\")\n",
    "\n",
    "# 3. 데이터 변환\n",
    "documents = []\n",
    "\n",
    "for idx, content in enumerate(dataset):\n",
    "    # 키워드 리스트를 문자열로 변환\n",
    "    if isinstance(content.get(\"keywords\", \"\"), list):\n",
    "        content[\"keywords\"] = \", \".join(content[\"keywords\"])\n",
    "\n",
    "    title = content.get(\"title\", \"\")\n",
    "    synopsis = content.get(\"synopsis\", \"\")\n",
    "    keywords = content.get(\"keywords\", \"\")\n",
    "\n",
    "    # 키워드가 비어있다면, 장르를 키워드로 대체\n",
    "    if not keywords:\n",
    "        keywords = content.get(\"genre\", \"\") # 키워드 \"-\" 비어있는채로 임베딩되서, 결측치 전처리를 무협으로 해버림\n",
    "    genre = content.get(\"genre\", \"\")\n",
    "\n",
    "    # page_content에 텍스트 데이터 머지\n",
    "    merged_text = f\"제목: {title}\\n장르: {genre}\\n줄거리: {synopsis}\\n작가: {content['author']}\\n썸네일: {content['thumbnail']}\\n작품_가격: {content['price']}\\n링크: {content['url']}\"\n",
    "\n",
    "    # metadata 정리\n",
    "    metadata = {\n",
    "        \"type\": content.get(\"type\", \"\"),\n",
    "        \"platform\": content.get(\"platform\", \"\"),\n",
    "        \"title\": title,\n",
    "        \"genre\": genre,\n",
    "        \"synopsis\": synopsis,\n",
    "        \"keyword\": keywords,\n",
    "        \"score\": content.get(\"score\", 0),\n",
    "    }\n",
    "\n",
    "    # Document 객체 생성\n",
    "    documents.append(Document(page_content=merged_text, metadata=metadata))\n",
    "\n",
    "logging.info(f\"총 {len(documents)}개의 Document 변환 완료!\")\n"
   ]
  },
  {
   "cell_type": "markdown",
   "metadata": {},
   "source": [
    "#### 웹툰 임베딩"
   ]
  },
  {
   "cell_type": "code",
   "execution_count": null,
   "metadata": {},
   "outputs": [
    {
     "name": "stderr",
     "output_type": "stream",
     "text": [
      "2025-03-06 17:09:14,418 - INFO - PyTorch version 2.5.1 available.\n",
      "2025-03-06 17:09:18,501 - INFO - Load pretrained SentenceTransformer: BAAI/bge-m3\n"
     ]
    }
   ],
   "source": [
    "# 벡터 스토어 설정\n",
    "COLLECTION_NAME = \"webtoon_historical\"\n",
    "PERSIST_DIRECTORY = \"vector_store/historical/webtoon_historical\"\n",
    "\n",
    "embedding_model_name = \"BAAI/bge-m3\"\n",
    "embedding_model = HuggingFaceEmbeddings(model_name=embedding_model_name)\n",
    "\n",
    "# Chroma 데이터베이스에 저장\n",
    "vector_store = Chroma.from_documents(\n",
    "    documents=documents,\n",
    "    embedding=embedding_model,\n",
    "    collection_name=COLLECTION_NAME,\n",
    "    persist_directory=PERSIST_DIRECTORY\n",
    ")"
   ]
  },
  {
   "cell_type": "markdown",
   "metadata": {},
   "source": [
    "#### 웹노벨 임베딩"
   ]
  },
  {
   "cell_type": "markdown",
   "metadata": {},
   "source": []
  },
  {
   "cell_type": "code",
   "execution_count": null,
   "metadata": {},
   "outputs": [],
   "source": [
    "# 벡터 스토어 설정\n",
    "COLLECTION_NAME = \"webnovel_historical\"\n",
    "PERSIST_DIRECTORY = \"vector_store/historical/webnovel_historical\"\n",
    "\n",
    "embedding_model_name = \"BAAI/bge-m3\"\n",
    "embedding_model = HuggingFaceEmbeddings(model_name=embedding_model_name)\n",
    "\n",
    "# Chroma 데이터베이스에 저장\n",
    "vector_store = Chroma.from_documents(\n",
    "    documents=documents,\n",
    "    embedding=embedding_model,\n",
    "    collection_name=COLLECTION_NAME,\n",
    "    persist_directory=PERSIST_DIRECTORY\n",
    ")"
   ]
  }
 ],
 "metadata": {
  "kernelspec": {
   "display_name": "langchain",
   "language": "python",
   "name": "python3"
  },
  "language_info": {
   "codemirror_mode": {
    "name": "ipython",
    "version": 3
   },
   "file_extension": ".py",
   "mimetype": "text/x-python",
   "name": "python",
   "nbconvert_exporter": "python",
   "pygments_lexer": "ipython3",
   "version": "3.12.7"
  }
 },
 "nbformat": 4,
 "nbformat_minor": 2
}
