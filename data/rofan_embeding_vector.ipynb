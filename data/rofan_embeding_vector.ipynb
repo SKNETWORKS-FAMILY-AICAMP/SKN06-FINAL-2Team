{
 "cells": [
  {
   "cell_type": "code",
   "execution_count": 9,
   "metadata": {},
   "outputs": [],
   "source": [
    "# pip install transformers torch sentence-transformers"
   ]
  },
  {
   "cell_type": "code",
   "execution_count": 16,
   "metadata": {},
   "outputs": [],
   "source": [
    "import os\n",
    "import json\n",
    "import torch\n",
    "from transformers import AutoTokenizer, AutoModel\n",
    "from langchain_chroma import Chroma\n",
    "from langchain.embeddings import HuggingFaceEmbeddings\n",
    "from langchain.docstore.document import Document\n",
    "from dotenv import load_dotenv\n",
    "\n",
    "load_dotenv()\n",
    "\n",
    "# 모델 설정 (Hugging Face KLUE S-RoBERTa)\n",
    "MODEL_NAME = \"bespin-global/klue-sroberta-base-continue-learning-by-mnr\"\n",
    "tokenizer = AutoTokenizer.from_pretrained(MODEL_NAME)\n",
    "model = AutoModel.from_pretrained(MODEL_NAME)\n",
    "\n",
    "# 텍스트 임베딩 함수\n",
    "def get_embedding(text):\n",
    "    inputs = tokenizer(text, return_tensors=\"pt\", truncation=True, padding=True, max_length=512)\n",
    "    with torch.no_grad():\n",
    "        outputs = model(**inputs)\n",
    "    embedding = outputs.last_hidden_state[:, 0, :].squeeze().numpy()\n",
    "    return embedding.tolist()\n"
   ]
  },
  {
   "cell_type": "code",
   "execution_count": 18,
   "metadata": {},
   "outputs": [
    {
     "name": "stdout",
     "output_type": "stream",
     "text": [
      "rofan_webtoon 데이터 22개 벡터화 완료 및 저장 → Raw_DB/vector_store/rofan_webtoon\n",
      "rofan_webnovel 데이터 21개 벡터화 완료 및 저장 → Raw_DB/vector_store/rofan_webnovel\n",
      "rofan_total 데이터 43개 벡터화 완료 및 저장 → Raw_DB/vector_store/rofan_total\n"
     ]
    }
   ],
   "source": [
    "# 파일 경로 설정\n",
    "webtoon_file = \"Raw_DB/rofan_webtoon.json\"\n",
    "webnovel_file = \"Raw_DB/rofan_webnovel.json\"\n",
    "total_file = \"Raw_DB/rofan_total.json\"\n",
    "\n",
    "# 벡터 저장 디렉토리\n",
    "WEBTOON_DB_PATH = \"Raw_DB/vector_store/rofan_webtoon\"\n",
    "WEBNOVEL_DB_PATH = \"Raw_DB/vector_store/rofan_webnovel\"\n",
    "TOTAL_DB_PATH =  \"Raw_DB/vector_store/rofan_total\"\n",
    "\n",
    "# 웹툰/웹소설 데이터 로드 및 벡터화\n",
    "def process_data(file_path, db_path, collection_name):\n",
    "    with open(file_path, \"r\", encoding=\"utf-8\") as file:\n",
    "        data = json.load(file)\n",
    "\n",
    "    # 문서 리스트 생성\n",
    "    documents = []\n",
    "\n",
    "    for item in data:\n",
    "        text = f\"{item['title']} {item['description']} {item['genre']} {', '.join(item['keywords'])}\"\n",
    "\n",
    "        # 메타데이터 생성\n",
    "        metadata = {\n",
    "            \"title\": item.get(\"title\", \"제목 없음\"),\n",
    "            \"platform\": item.get(\"platform\", \"알 수 없음\"),\n",
    "            \"type\": item.get(\"type\", \"알 수 없음\"),\n",
    "            \"genre\": item.get(\"genre\", \"알 수 없음\"),\n",
    "            \"keywords\": \", \".join(item.get(\"keywords\", [])),  # 리스트 → 문자열 변환\n",
    "            \"status\": item.get(\"status\", \"알 수 없음\"),\n",
    "            \"age_rating\": item.get(\"age_rating\", \"전체 이용가\"),\n",
    "            \"episodes\": str(item.get(\"episode\", \"알 수 없음\")),  # 정수 → 문자열 변환\n",
    "            \"price\": item.get(\"price_type\", \"무료\"),\n",
    "            \"url\": item.get(\"url\", \"\"),\n",
    "        }\n",
    "                                                                                        \n",
    "        # LangChain Document 객체 생성\n",
    "        doc = Document(page_content=text, metadata=metadata)\n",
    "        documents.append(doc)\n",
    "\n",
    "    # ChromaDB에 데이터 추가\n",
    "    vector_store = Chroma.from_documents(\n",
    "        documents=documents,\n",
    "        embedding=HuggingFaceEmbeddings(model_name=MODEL_NAME),\n",
    "        collection_name=collection_name,\n",
    "        persist_directory=db_path\n",
    "    )\n",
    "\n",
    "    print(f\"{collection_name} 데이터 {len(data)}개 벡터화 완료 및 저장 → {db_path}\")\n",
    "\n",
    "# 웹툰/웹소설 데이터 벡터화 & 저장\n",
    "process_data(webtoon_file, WEBTOON_DB_PATH, \"rofan_webtoon\")\n",
    "process_data(webnovel_file, WEBNOVEL_DB_PATH, \"rofan_webnovel\")\n",
    "process_data(total_file, TOTAL_DB_PATH, \"rofan_total\")"
   ]
  },
  {
   "cell_type": "code",
   "execution_count": null,
   "metadata": {},
   "outputs": [],
   "source": [
    "\"\""
   ]
  }
 ],
 "metadata": {
  "kernelspec": {
   "display_name": "langchain",
   "language": "python",
   "name": "python3"
  },
  "language_info": {
   "codemirror_mode": {
    "name": "ipython",
    "version": 3
   },
   "file_extension": ".py",
   "mimetype": "text/x-python",
   "name": "python",
   "nbconvert_exporter": "python",
   "pygments_lexer": "ipython3",
   "version": "3.12.7"
  }
 },
 "nbformat": 4,
 "nbformat_minor": 2
}
